{
 "cells": [
  {
   "cell_type": "code",
   "execution_count": 4,
   "metadata": {},
   "outputs": [],
   "source": [
    "import numpy as np\n",
    "\n",
    "#consider two datapoints\n",
    "point_one = (1,1)\n",
    "\n",
    "point_two = (2,2)\n",
    "\n",
    "point_three = (1,1,1)\n",
    "\n",
    "point_four = (2,2,2)"
   ]
  },
  {
   "cell_type": "code",
   "execution_count": 3,
   "metadata": {},
   "outputs": [
    {
     "name": "stdout",
     "output_type": "stream",
     "text": [
      "Euclidean distance is :  1.4142135623730951\n"
     ]
    }
   ],
   "source": [
    "# Finding the euclidean distance\n",
    "\n",
    "distance = (point_one[0] - point_two[0])**2 + (point_one[1] - point_two[1])**2\n",
    "\n",
    "euclidean_distance = np.sqrt(distance)\n",
    "\n",
    "print('Euclidean distance is : ', euclidean_distance)"
   ]
  },
  {
   "cell_type": "code",
   "execution_count": 5,
   "metadata": {},
   "outputs": [
    {
     "name": "stdout",
     "output_type": "stream",
     "text": [
      "Euclidean distance is :  1.7320508075688772\n"
     ]
    }
   ],
   "source": [
    "distance = (point_three[0] - point_four[0])**2 + (point_three[1] - point_four[1])**2+(point_three[2] - point_four[2])**2\n",
    "\n",
    "euclidean_distance = np.sqrt(distance)\n",
    "\n",
    "print('Euclidean distance is : ', euclidean_distance)"
   ]
  },
  {
   "cell_type": "code",
   "execution_count": 10,
   "metadata": {},
   "outputs": [],
   "source": [
    "\n",
    "\n",
    "def get_euclidean_distance(point5, point6):\n",
    "   \n",
    "    distance =0\n",
    "\n",
    "    for i in range(len(point5)):\n",
    "        distance = distance + (point5[i] - point6[i])**2\n",
    "\n",
    "    euclidean_distance = np.sqrt(distance)    \n",
    "\n",
    "    print('Euclidean distance is : ', euclidean_distance)   "
   ]
  },
  {
   "cell_type": "code",
   "execution_count": 21,
   "metadata": {},
   "outputs": [
    {
     "name": "stdout",
     "output_type": "stream",
     "text": [
      "Euclidean distance is :  2.0\n"
     ]
    }
   ],
   "source": [
    "get_euclidean_distance((1,1,1,1), (2,2,2,2))"
   ]
  },
  {
   "cell_type": "code",
   "execution_count": 29,
   "metadata": {},
   "outputs": [],
   "source": [
    "\n",
    "def get_manhattan_distance(p1, p2):\n",
    "   \n",
    "    distance = 0\n",
    "\n",
    "    for i in range(len(p1)):\n",
    "        manhattan_distance = distance + abs(p1[i] - p2[i])  \n",
    " \n",
    "    print('manhattan distance is : ', manhattan_distance) "
   ]
  },
  {
   "cell_type": "code",
   "execution_count": 30,
   "metadata": {},
   "outputs": [
    {
     "name": "stdout",
     "output_type": "stream",
     "text": [
      "manhattan distance is :  1\n"
     ]
    }
   ],
   "source": [
    "get_manhattan_distance((1,1,1,1), (2,2,2,2))"
   ]
  },
  {
   "cell_type": "code",
   "execution_count": 32,
   "metadata": {},
   "outputs": [
    {
     "name": "stdout",
     "output_type": "stream",
     "text": [
      "39\n"
     ]
    }
   ],
   "source": [
    "print(abs(2-41))"
   ]
  }
 ],
 "metadata": {
  "kernelspec": {
   "display_name": "Python 3",
   "language": "python",
   "name": "python3"
  },
  "language_info": {
   "codemirror_mode": {
    "name": "ipython",
    "version": 3
   },
   "file_extension": ".py",
   "mimetype": "text/x-python",
   "name": "python",
   "nbconvert_exporter": "python",
   "pygments_lexer": "ipython3",
   "version": "3.8.3"
  }
 },
 "nbformat": 4,
 "nbformat_minor": 4
}
